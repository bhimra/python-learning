{
 "cells": [
  {
   "cell_type": "code",
   "execution_count": 25,
   "metadata": {},
   "outputs": [],
   "source": [
    "import datetime"
   ]
  },
  {
   "cell_type": "markdown",
   "metadata": {},
   "source": []
  },
  {
   "cell_type": "code",
   "execution_count": 26,
   "metadata": {},
   "outputs": [
    {
     "name": "stdout",
     "output_type": "stream",
     "text": [
      "enter your name boss: ace\n"
     ]
    }
   ],
   "source": [
    "name = input(\"enter your name boss: \")\n",
    "d = datetime.datetime.now()"
   ]
  },
  {
   "cell_type": "code",
   "execution_count": 28,
   "metadata": {},
   "outputs": [
    {
     "ename": "SyntaxError",
     "evalue": "invalid syntax (<ipython-input-28-a89ef8541778>, line 9)",
     "output_type": "error",
     "traceback": [
      "\u001b[1;36m  File \u001b[1;32m\"<ipython-input-28-a89ef8541778>\"\u001b[1;36m, line \u001b[1;32m9\u001b[0m\n\u001b[1;33m    else print(\"good night\", name+\"!\")\u001b[0m\n\u001b[1;37m             ^\u001b[0m\n\u001b[1;31mSyntaxError\u001b[0m\u001b[1;31m:\u001b[0m invalid syntax\n"
     ]
    }
   ],
   "source": [
    "curhour = d.hour\n",
    "curmin = d.minute\n",
    "if curhour<12:\n",
    "    print(\"good morning\", name+\"!\")\n",
    "elif curhour>11 and curhour<=16:\n",
    "    print(\"good afternoon\", name+\"!\")\n",
    "elif curhour>16 and curhour<=20:\n",
    "    print(\"good evening\", name+\"!\")\n",
    "else print(\"good night\", name+\"!\")"
   ]
  },
  {
   "cell_type": "code",
   "execution_count": 23,
   "metadata": {},
   "outputs": [
    {
     "name": "stdout",
     "output_type": "stream",
     "text": [
      "Enter your Name : anurag\n",
      "Good Afternoon anurag!\n"
     ]
    }
   ],
   "source": [
    "import datetime\n",
    "\n",
    "name =input(\"Enter your Name : \")\n",
    "d=datetime.datetime.now()\n",
    "curhour=d.hour\n",
    "curmin=d.minute\n",
    "if curhour<12:\n",
    "\tprint(\"Good Morning\",name+\"!\")\n",
    "elif curhour>11 and curhour<=16:\n",
    "\tprint(\"Good Afternoon\",name+\"!\")\n",
    "elif curhour > 16 and curhour <=21:\n",
    "\tprint(\"Good Evening\",name+\"!\")\n",
    "else:\n",
    "\tprint(\"Good Night\", name+\"!\")"
   ]
  },
  {
   "cell_type": "code",
   "execution_count": null,
   "metadata": {},
   "outputs": [],
   "source": []
  }
 ],
 "metadata": {
  "kernelspec": {
   "display_name": "Python 3",
   "language": "python",
   "name": "python3"
  },
  "language_info": {
   "codemirror_mode": {
    "name": "ipython",
    "version": 3
   },
   "file_extension": ".py",
   "mimetype": "text/x-python",
   "name": "python",
   "nbconvert_exporter": "python",
   "pygments_lexer": "ipython3",
   "version": "3.6.4"
  }
 },
 "nbformat": 4,
 "nbformat_minor": 2
}

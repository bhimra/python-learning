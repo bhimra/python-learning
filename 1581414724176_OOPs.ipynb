{
 "cells": [
  {
   "cell_type": "code",
   "execution_count": 1,
   "metadata": {},
   "outputs": [
    {
     "name": "stdout",
     "output_type": "stream",
     "text": [
      "Gopal 8th 17\n"
     ]
    }
   ],
   "source": [
    "class Student:\n",
    "    pass\n",
    "\n",
    "s1 = Student()\n",
    "s2 = Student()\n",
    "\n",
    "s1.name = \"Gopal\"\n",
    "s1.sem = \"8th\"\n",
    "s1.roll = 17\n",
    "\n",
    "print(s1.name, s1.sem, s1.roll)"
   ]
  },
  {
   "cell_type": "code",
   "execution_count": 2,
   "metadata": {},
   "outputs": [
    {
     "ename": "AttributeError",
     "evalue": "'Student' object has no attribute 'name'",
     "output_type": "error",
     "traceback": [
      "\u001b[0;31m---------------------------------------------------------------------------\u001b[0m",
      "\u001b[0;31mAttributeError\u001b[0m                            Traceback (most recent call last)",
      "\u001b[0;32m<ipython-input-2-7f230717b1d0>\u001b[0m in \u001b[0;36m<module>\u001b[0;34m\u001b[0m\n\u001b[0;32m----> 1\u001b[0;31m \u001b[0mprint\u001b[0m\u001b[0;34m(\u001b[0m\u001b[0ms2\u001b[0m\u001b[0;34m.\u001b[0m\u001b[0mname\u001b[0m\u001b[0;34m,\u001b[0m \u001b[0ms2\u001b[0m\u001b[0;34m.\u001b[0m\u001b[0msem\u001b[0m\u001b[0;34m,\u001b[0m \u001b[0ms2\u001b[0m\u001b[0;34m.\u001b[0m\u001b[0mroll\u001b[0m\u001b[0;34m)\u001b[0m\u001b[0;34m\u001b[0m\u001b[0;34m\u001b[0m\u001b[0m\n\u001b[0m",
      "\u001b[0;31mAttributeError\u001b[0m: 'Student' object has no attribute 'name'"
     ]
    }
   ],
   "source": [
    "print(s2.name, s2.sem, s2.roll)"
   ]
  },
  {
   "cell_type": "code",
   "execution_count": null,
   "metadata": {},
   "outputs": [],
   "source": [
    "self = Student()\n",
    "\n",
    "self.name = \"Gopal\"\n",
    "self.sem = \"8th\"\n",
    "self.roll = 17"
   ]
  },
  {
   "cell_type": "code",
   "execution_count": null,
   "metadata": {},
   "outputs": [],
   "source": [
    "print(self.name, self.sem, self.roll)"
   ]
  },
  {
   "cell_type": "code",
   "execution_count": 3,
   "metadata": {},
   "outputs": [],
   "source": [
    "class Student:\n",
    "    \n",
    "    # Attribute initialization\n",
    "    def __init__(self, name, sem, roll):\n",
    "        self.name = name\n",
    "        self.sem = sem\n",
    "        self.roll = roll"
   ]
  },
  {
   "cell_type": "code",
   "execution_count": 4,
   "metadata": {},
   "outputs": [],
   "source": [
    "s = Student(\"Gopal\", \"8th\", 17)"
   ]
  },
  {
   "cell_type": "code",
   "execution_count": 5,
   "metadata": {},
   "outputs": [
    {
     "name": "stdout",
     "output_type": "stream",
     "text": [
      "Gopal 8th 17\n"
     ]
    }
   ],
   "source": [
    "print(s.name, s.sem, s.roll)"
   ]
  },
  {
   "cell_type": "code",
   "execution_count": 6,
   "metadata": {},
   "outputs": [
    {
     "data": {
      "text/plain": [
       "<__main__.Student at 0x7fca5272a358>"
      ]
     },
     "execution_count": 6,
     "metadata": {},
     "output_type": "execute_result"
    }
   ],
   "source": [
    "s"
   ]
  },
  {
   "cell_type": "code",
   "execution_count": 7,
   "metadata": {},
   "outputs": [],
   "source": [
    "def show_fullname():\n",
    "    return \"Full name\""
   ]
  },
  {
   "cell_type": "code",
   "execution_count": 8,
   "metadata": {},
   "outputs": [],
   "source": [
    "s.show = show_fullname"
   ]
  },
  {
   "cell_type": "code",
   "execution_count": 9,
   "metadata": {},
   "outputs": [
    {
     "data": {
      "text/plain": [
       "'Full name'"
      ]
     },
     "execution_count": 9,
     "metadata": {},
     "output_type": "execute_result"
    }
   ],
   "source": [
    "s.show()"
   ]
  },
  {
   "cell_type": "code",
   "execution_count": 10,
   "metadata": {},
   "outputs": [],
   "source": [
    "class Student:\n",
    "    \n",
    "    # Attribute initialization\n",
    "    def __init__(self, name, sem, roll):\n",
    "        self.name = name\n",
    "        self.sem = sem\n",
    "        self.roll = roll\n",
    "        \n",
    "    def show(self):\n",
    "        return f\"{self.name}\""
   ]
  },
  {
   "cell_type": "code",
   "execution_count": 11,
   "metadata": {},
   "outputs": [],
   "source": [
    "s = Student(\"Gopal\", \"8th\", 17)"
   ]
  },
  {
   "cell_type": "code",
   "execution_count": 12,
   "metadata": {},
   "outputs": [
    {
     "data": {
      "text/plain": [
       "'Gopal'"
      ]
     },
     "execution_count": 12,
     "metadata": {},
     "output_type": "execute_result"
    }
   ],
   "source": [
    "s.show()"
   ]
  },
  {
   "cell_type": "code",
   "execution_count": 13,
   "metadata": {},
   "outputs": [
    {
     "data": {
      "text/plain": [
       "<__main__.Student at 0x7fca5272a668>"
      ]
     },
     "execution_count": 13,
     "metadata": {},
     "output_type": "execute_result"
    }
   ],
   "source": [
    "s"
   ]
  },
  {
   "cell_type": "code",
   "execution_count": 14,
   "metadata": {},
   "outputs": [],
   "source": [
    "class Student:\n",
    "    \n",
    "    # Attribute initialization\n",
    "    def __init__(self, name, sem, roll):\n",
    "        self.name = name\n",
    "        self.sem = sem\n",
    "        self.roll = roll\n",
    "        \n",
    "    def show(self):\n",
    "        return f\"{self.name}\"\n",
    "    \n",
    "    def __repr__(self):\n",
    "        return f\"{self.name} {self.roll}\""
   ]
  },
  {
   "cell_type": "code",
   "execution_count": 15,
   "metadata": {},
   "outputs": [],
   "source": [
    "s = Student(\"Gopal\", \"8th\", 17)"
   ]
  },
  {
   "cell_type": "code",
   "execution_count": 16,
   "metadata": {},
   "outputs": [
    {
     "data": {
      "text/plain": [
       "Gopal 17"
      ]
     },
     "execution_count": 16,
     "metadata": {},
     "output_type": "execute_result"
    }
   ],
   "source": [
    "s"
   ]
  },
  {
   "cell_type": "code",
   "execution_count": 17,
   "metadata": {},
   "outputs": [
    {
     "name": "stdout",
     "output_type": "stream",
     "text": [
      "Gopal 17\n"
     ]
    }
   ],
   "source": [
    "print(s)"
   ]
  },
  {
   "cell_type": "code",
   "execution_count": 23,
   "metadata": {},
   "outputs": [],
   "source": [
    "class Student:\n",
    "    \n",
    "    # Attribute initialization\n",
    "    def __init__(self, name, sem, roll):\n",
    "        self.name = name\n",
    "        self.sem = sem\n",
    "        self.roll = roll\n",
    "        \n",
    "    def show(self):\n",
    "        return f\"{self.name}\"\n",
    "    \n",
    "    # Object representation\n",
    "    def __repr__(self):\n",
    "        return f\"{self.name} {self.roll}\"\n",
    "    \n",
    "    # String representation\n",
    "    def __str__(self):\n",
    "        return f\"{self.name}\""
   ]
  },
  {
   "cell_type": "code",
   "execution_count": 24,
   "metadata": {},
   "outputs": [],
   "source": [
    "s = Student(\"Gopal\", \"8th\", 17)"
   ]
  },
  {
   "cell_type": "code",
   "execution_count": 25,
   "metadata": {},
   "outputs": [
    {
     "data": {
      "text/plain": [
       "Gopal 17"
      ]
     },
     "execution_count": 25,
     "metadata": {},
     "output_type": "execute_result"
    }
   ],
   "source": [
    "s"
   ]
  },
  {
   "cell_type": "code",
   "execution_count": 26,
   "metadata": {},
   "outputs": [
    {
     "name": "stdout",
     "output_type": "stream",
     "text": [
      "Gopal\n"
     ]
    }
   ],
   "source": [
    "print(s)"
   ]
  },
  {
   "cell_type": "code",
   "execution_count": 27,
   "metadata": {},
   "outputs": [
    {
     "ename": "TypeError",
     "evalue": "object of type 'Student' has no len()",
     "output_type": "error",
     "traceback": [
      "\u001b[0;31m---------------------------------------------------------------------------\u001b[0m",
      "\u001b[0;31mTypeError\u001b[0m                                 Traceback (most recent call last)",
      "\u001b[0;32m<ipython-input-27-c71df1a6e151>\u001b[0m in \u001b[0;36m<module>\u001b[0;34m\u001b[0m\n\u001b[0;32m----> 1\u001b[0;31m \u001b[0mlen\u001b[0m\u001b[0;34m(\u001b[0m\u001b[0ms\u001b[0m\u001b[0;34m)\u001b[0m\u001b[0;34m\u001b[0m\u001b[0;34m\u001b[0m\u001b[0m\n\u001b[0m",
      "\u001b[0;31mTypeError\u001b[0m: object of type 'Student' has no len()"
     ]
    }
   ],
   "source": [
    "len(s)"
   ]
  },
  {
   "cell_type": "code",
   "execution_count": null,
   "metadata": {},
   "outputs": [],
   "source": [
    "len(\"abc\")"
   ]
  },
  {
   "cell_type": "code",
   "execution_count": 28,
   "metadata": {},
   "outputs": [
    {
     "name": "stdout",
     "output_type": "stream",
     "text": [
      "Help on built-in function repr in module builtins:\n",
      "\n",
      "repr(obj, /)\n",
      "    Return the canonical string representation of the object.\n",
      "    \n",
      "    For many object types, including most builtins, eval(repr(obj)) == obj.\n",
      "\n"
     ]
    }
   ],
   "source": [
    "help(repr)"
   ]
  },
  {
   "cell_type": "code",
   "execution_count": 29,
   "metadata": {},
   "outputs": [],
   "source": [
    "class Student:\n",
    "    \n",
    "    # Attribute initialization\n",
    "    def __init__(self, name, sem, roll):\n",
    "        self.name = name\n",
    "        self.sem = sem\n",
    "        self.roll = roll\n",
    "        \n",
    "    def show(self):\n",
    "        return f\"{self.name}\"\n",
    "    \n",
    "    # Object representation\n",
    "    def __repr__(self):\n",
    "        return f\"{self.name} {self.roll}\"\n",
    "    \n",
    "    # String representation\n",
    "    def __str__(self):\n",
    "        return f\"{self.name}\"\n",
    "    \n",
    "    def __len__(self):\n",
    "        return len(self.name)"
   ]
  },
  {
   "cell_type": "code",
   "execution_count": 30,
   "metadata": {},
   "outputs": [],
   "source": [
    "s = Student(\"Gopal\", \"8th\", 17)"
   ]
  },
  {
   "cell_type": "code",
   "execution_count": 31,
   "metadata": {},
   "outputs": [
    {
     "data": {
      "text/plain": [
       "5"
      ]
     },
     "execution_count": 31,
     "metadata": {},
     "output_type": "execute_result"
    }
   ],
   "source": [
    "len(s)"
   ]
  },
  {
   "cell_type": "code",
   "execution_count": 32,
   "metadata": {},
   "outputs": [
    {
     "ename": "SyntaxError",
     "evalue": "invalid syntax (<ipython-input-32-1214d8a84aa8>, line 10)",
     "output_type": "error",
     "traceback": [
      "\u001b[0;36m  File \u001b[0;32m\"<ipython-input-32-1214d8a84aa8>\"\u001b[0;36m, line \u001b[0;32m10\u001b[0m\n\u001b[0;31m    def new_func(self.name):\u001b[0m\n\u001b[0m                     ^\u001b[0m\n\u001b[0;31mSyntaxError\u001b[0m\u001b[0;31m:\u001b[0m invalid syntax\n"
     ]
    }
   ],
   "source": [
    "class Student:\n",
    "    \n",
    "    # Attribute initialization\n",
    "    def __init__(self, name, sem, roll):\n",
    "        self.name = name\n",
    "        self.sem = sem\n",
    "        self.roll = roll\n",
    "        \n",
    "    def full_name(func):\n",
    "        def new_func(self.name):\n",
    "            result = func(self.name)\n",
    "            return \"Mr. \" + result\n",
    "        return new_func\n",
    "    \n",
    "    \"\"\"\n",
    "        full_name(show(name)) -->\n",
    "            new_func(name)\n",
    "                result = show(name)\n",
    "                \n",
    "    \"\"\"\n",
    "    \n",
    "    @full_name\n",
    "    def show(self):\n",
    "        return f\"{self.name}\"\n",
    "    \n",
    "    # Object representation\n",
    "    def __repr__(self):\n",
    "        return f\"{self.name} {self.roll}\"\n",
    "    \n",
    "    # String representation\n",
    "    def __str__(self):\n",
    "        return f\"{self.name}\"\n",
    "    \n",
    "    def __len__(self):\n",
    "        return len(self.name)"
   ]
  },
  {
   "cell_type": "code",
   "execution_count": 33,
   "metadata": {},
   "outputs": [],
   "source": [
    "s = Student(\"Gopal\", \"8th\", 17)"
   ]
  },
  {
   "cell_type": "code",
   "execution_count": 34,
   "metadata": {},
   "outputs": [
    {
     "data": {
      "text/plain": [
       "'Gopal'"
      ]
     },
     "execution_count": 34,
     "metadata": {},
     "output_type": "execute_result"
    }
   ],
   "source": [
    "s.show()"
   ]
  },
  {
   "cell_type": "code",
   "execution_count": 40,
   "metadata": {},
   "outputs": [],
   "source": [
    "class Student:\n",
    "    \n",
    "    # Attribute initialization\n",
    "    def __init__(self, name, sem, roll):\n",
    "        self.name = name\n",
    "        self.sem = sem\n",
    "        self.roll = roll\n",
    "        \n",
    "    def full_name(func):\n",
    "        def new_func(args):\n",
    "            result = func(args)\n",
    "            return \"Mr. \" + result\n",
    "        return new_func\n",
    "    \n",
    "    \"\"\"\n",
    "        full_name(show(name)) -->\n",
    "            new_func(name)\n",
    "                result = show(name)\n",
    "                \n",
    "    \"\"\"\n",
    "    \n",
    "    @full_name\n",
    "    def show(self):\n",
    "        return f\"{self.name}\"\n",
    "    \n",
    "    # Object representation\n",
    "    def __repr__(self):\n",
    "        return f\"{self.name} {self.roll}\"\n",
    "    \n",
    "    # String representation\n",
    "    def __str__(self):\n",
    "        return f\"{self.name}\"\n",
    "    \n",
    "    def __len__(self):\n",
    "        return len(self.name)"
   ]
  },
  {
   "cell_type": "code",
   "execution_count": 41,
   "metadata": {},
   "outputs": [],
   "source": [
    "s = Student(\"Gopal\", \"8th\", 17)"
   ]
  },
  {
   "cell_type": "code",
   "execution_count": 42,
   "metadata": {},
   "outputs": [
    {
     "data": {
      "text/plain": [
       "'Mr. Gopal'"
      ]
     },
     "execution_count": 42,
     "metadata": {},
     "output_type": "execute_result"
    }
   ],
   "source": [
    "s.show()"
   ]
  },
  {
   "cell_type": "markdown",
   "metadata": {},
   "source": [
    "# classmethod, staticmethod, property, inheritance"
   ]
  },
  {
   "cell_type": "code",
   "execution_count": 51,
   "metadata": {},
   "outputs": [],
   "source": [
    "class Student:\n",
    "    \n",
    "    leaves = 20\n",
    "    \n",
    "    # Attribute initialization\n",
    "    def __init__(self, name, sem, roll):\n",
    "        self.name = name\n",
    "        self.sem = sem\n",
    "        self.roll = roll\n",
    "        \n",
    "    def full_name(func):\n",
    "        def new_func(args):\n",
    "            result = func(args)\n",
    "            return \"Mr. \" + result\n",
    "        return new_func\n",
    "    \n",
    "    \"\"\"\n",
    "        full_name(show(name)) -->\n",
    "            new_func(name)\n",
    "                result = show(name)\n",
    "                \n",
    "    \"\"\"\n",
    "    \n",
    "    @full_name\n",
    "    def show(self):\n",
    "        return f\"{self.name}\"\n",
    "    \n",
    "    def take_leave(self):\n",
    "        if Student.leaves <= 0:\n",
    "            return \"You don't have any leaves.\"\n",
    "        Student.leaves -= 1\n",
    "        return Student.leaves\n",
    "        \n",
    "    \n",
    "    # Object representation\n",
    "    def __repr__(self):\n",
    "        return f\"{self.name} {self.roll}\"\n",
    "    \n",
    "    # String representation\n",
    "    def __str__(self):\n",
    "        return f\"{self.name}\"\n",
    "    \n",
    "    def __len__(self):\n",
    "        return len(self.name)"
   ]
  },
  {
   "cell_type": "code",
   "execution_count": 52,
   "metadata": {},
   "outputs": [],
   "source": [
    "s = Student(\"Gopal\", \"8th\", 17)"
   ]
  },
  {
   "cell_type": "code",
   "execution_count": 53,
   "metadata": {},
   "outputs": [
    {
     "data": {
      "text/plain": [
       "20"
      ]
     },
     "execution_count": 53,
     "metadata": {},
     "output_type": "execute_result"
    }
   ],
   "source": [
    "s.leaves"
   ]
  },
  {
   "cell_type": "code",
   "execution_count": 54,
   "metadata": {},
   "outputs": [
    {
     "data": {
      "text/plain": [
       "19"
      ]
     },
     "execution_count": 54,
     "metadata": {},
     "output_type": "execute_result"
    }
   ],
   "source": [
    "s.take_leave()"
   ]
  },
  {
   "cell_type": "code",
   "execution_count": 55,
   "metadata": {},
   "outputs": [],
   "source": [
    "class Student:\n",
    "    \n",
    "    leaves = 20\n",
    "    \n",
    "    # Attribute initialization\n",
    "    def __init__(self, name, sem, roll):\n",
    "        self.name = name\n",
    "        self.sem = sem\n",
    "        self.roll = roll\n",
    "        \n",
    "    def full_name(func):\n",
    "        def new_func(args):\n",
    "            result = func(args)\n",
    "            return \"Mr. \" + result\n",
    "        return new_func\n",
    "    \n",
    "    \"\"\"\n",
    "        full_name(show(name)) -->\n",
    "            new_func(name)\n",
    "                result = show(name)\n",
    "                \n",
    "    \"\"\"\n",
    "    \n",
    "    @full_name\n",
    "    def show(self):\n",
    "        return f\"{self.name}\"\n",
    "    \n",
    "    @property\n",
    "    def take_leave(self):\n",
    "        if Student.leaves <= 0:\n",
    "            return \"You don't have any leaves.\"\n",
    "        Student.leaves -= 1\n",
    "        return Student.leaves\n",
    "        \n",
    "    \n",
    "    # Object representation\n",
    "    def __repr__(self):\n",
    "        return f\"{self.name} {self.roll}\"\n",
    "    \n",
    "    # String representation\n",
    "    def __str__(self):\n",
    "        return f\"{self.name}\"\n",
    "    \n",
    "    def __len__(self):\n",
    "        return len(self.name)"
   ]
  },
  {
   "cell_type": "code",
   "execution_count": 56,
   "metadata": {},
   "outputs": [],
   "source": [
    "s = Student(\"Gopal\", \"8th\", 17)"
   ]
  },
  {
   "cell_type": "code",
   "execution_count": 57,
   "metadata": {},
   "outputs": [
    {
     "ename": "TypeError",
     "evalue": "'int' object is not callable",
     "output_type": "error",
     "traceback": [
      "\u001b[0;31m---------------------------------------------------------------------------\u001b[0m",
      "\u001b[0;31mTypeError\u001b[0m                                 Traceback (most recent call last)",
      "\u001b[0;32m<ipython-input-57-53e382ec33e7>\u001b[0m in \u001b[0;36m<module>\u001b[0;34m\u001b[0m\n\u001b[0;32m----> 1\u001b[0;31m \u001b[0ms\u001b[0m\u001b[0;34m.\u001b[0m\u001b[0mtake_leave\u001b[0m\u001b[0;34m(\u001b[0m\u001b[0;34m)\u001b[0m\u001b[0;34m\u001b[0m\u001b[0;34m\u001b[0m\u001b[0m\n\u001b[0m",
      "\u001b[0;31mTypeError\u001b[0m: 'int' object is not callable"
     ]
    }
   ],
   "source": [
    "s.take_leave()"
   ]
  },
  {
   "cell_type": "code",
   "execution_count": 58,
   "metadata": {},
   "outputs": [
    {
     "ename": "TypeError",
     "evalue": "'float' object is not callable",
     "output_type": "error",
     "traceback": [
      "\u001b[0;31m---------------------------------------------------------------------------\u001b[0m",
      "\u001b[0;31mTypeError\u001b[0m                                 Traceback (most recent call last)",
      "\u001b[0;32m<ipython-input-58-ceff8442e8b3>\u001b[0m in \u001b[0;36m<module>\u001b[0;34m\u001b[0m\n\u001b[0;32m----> 1\u001b[0;31m \u001b[0;36m1.\u001b[0m\u001b[0;34m(\u001b[0m\u001b[0;34m)\u001b[0m\u001b[0;34m\u001b[0m\u001b[0;34m\u001b[0m\u001b[0m\n\u001b[0m",
      "\u001b[0;31mTypeError\u001b[0m: 'float' object is not callable"
     ]
    }
   ],
   "source": [
    "1.()"
   ]
  },
  {
   "cell_type": "code",
   "execution_count": 59,
   "metadata": {},
   "outputs": [
    {
     "data": {
      "text/plain": [
       "16"
      ]
     },
     "execution_count": 59,
     "metadata": {},
     "output_type": "execute_result"
    }
   ],
   "source": [
    "s.take_leave"
   ]
  },
  {
   "cell_type": "code",
   "execution_count": 60,
   "metadata": {},
   "outputs": [],
   "source": [
    "for i in range(15):\n",
    "    s.take_leave"
   ]
  },
  {
   "cell_type": "code",
   "execution_count": 61,
   "metadata": {},
   "outputs": [
    {
     "data": {
      "text/plain": [
       "\"You don't have any leaves.\""
      ]
     },
     "execution_count": 61,
     "metadata": {},
     "output_type": "execute_result"
    }
   ],
   "source": [
    "s.take_leave"
   ]
  },
  {
   "cell_type": "code",
   "execution_count": 62,
   "metadata": {},
   "outputs": [],
   "source": [
    "class Student:\n",
    "    \n",
    "    leaves = 20\n",
    "    \n",
    "    # Attribute initialization\n",
    "    def __init__(self, name, sem, roll):\n",
    "        self.name = name\n",
    "        self.sem = sem\n",
    "        self.roll = roll\n",
    "        \n",
    "    def full_name(func):\n",
    "        def new_func(args):\n",
    "            result = func(args)\n",
    "            return \"Mr. \" + result\n",
    "        return new_func\n",
    "    \n",
    "    \"\"\"\n",
    "        full_name(show(name)) -->\n",
    "            new_func(name)\n",
    "                result = show(name)\n",
    "                \n",
    "    \"\"\"\n",
    "    \n",
    "    @full_name\n",
    "    def show(self):\n",
    "        return f\"{self.name}\"\n",
    "    \n",
    "    \n",
    "    @property\n",
    "    def take_leave(self):\n",
    "        if Student.leaves <= 0:\n",
    "            return \"You don't have any leaves.\"\n",
    "        Student.leaves -= 1\n",
    "        return Student.leaves\n",
    "        \n",
    "    @classmethod\n",
    "    def from_string(cls, string):\n",
    "        pass\n",
    "    \n",
    "    # Object representation\n",
    "    def __repr__(self):\n",
    "        return f\"{self.name} {self.roll}\"\n",
    "    \n",
    "    # String representation\n",
    "    def __str__(self):\n",
    "        return f\"{self.name}\"\n",
    "    \n",
    "    def __len__(self):\n",
    "        return len(self.name)"
   ]
  },
  {
   "cell_type": "code",
   "execution_count": 63,
   "metadata": {},
   "outputs": [],
   "source": [
    "s1 = Student(\"name\", \"sem\", 8)"
   ]
  },
  {
   "cell_type": "code",
   "execution_count": 64,
   "metadata": {},
   "outputs": [
    {
     "data": {
      "text/plain": [
       "20"
      ]
     },
     "execution_count": 64,
     "metadata": {},
     "output_type": "execute_result"
    }
   ],
   "source": [
    "s1.leaves"
   ]
  },
  {
   "cell_type": "code",
   "execution_count": 65,
   "metadata": {},
   "outputs": [],
   "source": [
    "string = \"Gopal-8th-17\""
   ]
  },
  {
   "cell_type": "code",
   "execution_count": 66,
   "metadata": {},
   "outputs": [
    {
     "data": {
      "text/plain": [
       "['Gopal', '8th', '17']"
      ]
     },
     "execution_count": 66,
     "metadata": {},
     "output_type": "execute_result"
    }
   ],
   "source": [
    "string.split(\"-\")"
   ]
  },
  {
   "cell_type": "code",
   "execution_count": 67,
   "metadata": {},
   "outputs": [],
   "source": [
    "l = string.split(\"-\")"
   ]
  },
  {
   "cell_type": "code",
   "execution_count": 68,
   "metadata": {},
   "outputs": [
    {
     "data": {
      "text/plain": [
       "['Gopal', '8th', '17']"
      ]
     },
     "execution_count": 68,
     "metadata": {},
     "output_type": "execute_result"
    }
   ],
   "source": [
    "l"
   ]
  },
  {
   "cell_type": "code",
   "execution_count": 69,
   "metadata": {},
   "outputs": [],
   "source": [
    "name, sem, roll = l"
   ]
  },
  {
   "cell_type": "code",
   "execution_count": 70,
   "metadata": {},
   "outputs": [],
   "source": [
    "s2 = Student(name, sem, roll)"
   ]
  },
  {
   "cell_type": "code",
   "execution_count": 71,
   "metadata": {},
   "outputs": [
    {
     "data": {
      "text/plain": [
       "Gopal 17"
      ]
     },
     "execution_count": 71,
     "metadata": {},
     "output_type": "execute_result"
    }
   ],
   "source": [
    "s2"
   ]
  },
  {
   "cell_type": "code",
   "execution_count": 80,
   "metadata": {},
   "outputs": [],
   "source": [
    "class Student:\n",
    "    \n",
    "    leaves = 20\n",
    "    \n",
    "    # Attribute initialization\n",
    "    def __init__(self, name, sem, roll):\n",
    "        self.name = name\n",
    "        self.sem = sem\n",
    "        self.roll = roll\n",
    "        \n",
    "    def full_name(func):\n",
    "        def new_func(args):\n",
    "            result = func(args)\n",
    "            return \"Mr. \" + result\n",
    "        return new_func\n",
    "    \n",
    "    \"\"\"\n",
    "        full_name(show(name)) -->\n",
    "            new_func(name)\n",
    "                result = show(name)\n",
    "                \n",
    "    \"\"\"\n",
    "    \n",
    "    @full_name\n",
    "    def show(self):\n",
    "        return f\"{self.name}\"\n",
    "    \n",
    "    \n",
    "    @property\n",
    "    def take_leave(self):\n",
    "        if Student.leaves <= 0:\n",
    "            return \"You don't have any leaves.\"\n",
    "        Student.leaves -= 1\n",
    "        return Student.leaves\n",
    "        \n",
    "    @classmethod\n",
    "    def from_string(cls, string, marker=\"-\"):\n",
    "        name, sem, roll = string.split(marker)\n",
    "        return cls(name, sem, roll)\n",
    "    \n",
    "    # Object representation\n",
    "    def __repr__(self):\n",
    "        return f\"{self.name} {self.roll} {self.sem}\"\n",
    "    \n",
    "    # String representation\n",
    "    def __str__(self):\n",
    "        return f\"{self.name}\"\n",
    "    \n",
    "    def __len__(self):\n",
    "        return len(self.name)"
   ]
  },
  {
   "cell_type": "code",
   "execution_count": 81,
   "metadata": {},
   "outputs": [],
   "source": [
    "string = \"Akshay-8th-17\""
   ]
  },
  {
   "cell_type": "code",
   "execution_count": 82,
   "metadata": {},
   "outputs": [],
   "source": [
    "class Student:\n",
    "    \n",
    "    leaves = 20\n",
    "    \n",
    "    # Attribute initialization\n",
    "    def __init__(self, name, sem, roll):\n",
    "        self.name = name\n",
    "        self.sem = sem\n",
    "        self.roll = roll\n",
    "        \n",
    "    def full_name(func):\n",
    "        def new_func(args):\n",
    "            result = func(args)\n",
    "            return \"Mr. \" + result\n",
    "        return new_func\n",
    "    \n",
    "    \"\"\"\n",
    "        full_name(show(name)) -->\n",
    "            new_func(name)\n",
    "                result = show(name)\n",
    "                \n",
    "    \"\"\"\n",
    "    \n",
    "    @full_name\n",
    "    def show(self):\n",
    "        return f\"{self.name}\"\n",
    "    \n",
    "    \n",
    "    @property\n",
    "    def take_leave(self):\n",
    "        if Student.leaves <= 0:\n",
    "            return \"You don't have any leaves.\"\n",
    "        Student.leaves -= 1\n",
    "        return Student.leaves\n",
    "        \n",
    "    @classmethod\n",
    "    def from_string(cls, string, marker=\"-\"):\n",
    "        name, sem, roll = string.split(marker)\n",
    "        return cls(name, sem, roll)\n",
    "    \n",
    "    # Object representation\n",
    "    def __repr__(self):\n",
    "        return f\"{self.name} {self.roll} {self.sem}\"\n",
    "    \n",
    "    # String representation\n",
    "    def __str__(self):\n",
    "        return f\"{self.name}\"\n",
    "    \n",
    "    def __len__(self):\n",
    "        return len(self.name)"
   ]
  },
  {
   "cell_type": "code",
   "execution_count": 83,
   "metadata": {},
   "outputs": [
    {
     "data": {
      "text/plain": [
       "Akshay 17 8th"
      ]
     },
     "execution_count": 83,
     "metadata": {},
     "output_type": "execute_result"
    }
   ],
   "source": [
    "s2"
   ]
  },
  {
   "cell_type": "code",
   "execution_count": 84,
   "metadata": {},
   "outputs": [
    {
     "data": {
      "text/plain": [
       "'Mr. Akshay'"
      ]
     },
     "execution_count": 84,
     "metadata": {},
     "output_type": "execute_result"
    }
   ],
   "source": [
    "s2.show()"
   ]
  },
  {
   "cell_type": "code",
   "execution_count": 110,
   "metadata": {},
   "outputs": [],
   "source": [
    "class Student:\n",
    "    \n",
    "    leaves = 20\n",
    "    \n",
    "    # Attribute initialization\n",
    "    def __init__(self, name, sem, roll):\n",
    "        self.name = name\n",
    "        self.sem = sem\n",
    "        self.roll = roll\n",
    "        \n",
    "    def full_name(func):\n",
    "        def new_func(args):\n",
    "            result = func(args)\n",
    "            return \"Mr. \" + result\n",
    "        return new_func\n",
    "    \n",
    "    \"\"\"\n",
    "        full_name(show(name)) -->\n",
    "            new_func(name)\n",
    "                result = show(name)\n",
    "                \n",
    "    \"\"\"\n",
    "    \n",
    "    @full_name\n",
    "    def show(self):\n",
    "        return f\"{self.name}\"\n",
    "    \n",
    "    \n",
    "    @property\n",
    "    def take_leave(self):\n",
    "        if Student.leaves <= 0:\n",
    "            return \"You don't have any leaves.\"\n",
    "        Student.leaves -= 1\n",
    "        return Student.leaves\n",
    "        \n",
    "    @classmethod\n",
    "    def from_string(cls, string, marker=\"-\"):\n",
    "        name, sem, roll = string.split(marker)\n",
    "        return cls(name, sem, roll)\n",
    "    \n",
    "    @staticmethod\n",
    "    def subject(sem, sub_name):\n",
    "        return f\"You are in {sem}th sem.You should read 2nd year books for {sub_name}\"\n",
    "    \n",
    "    # Object representation\n",
    "    def __repr__(self):\n",
    "        return f\"{self.name} {self.roll} {self.sem}\"\n",
    "    \n",
    "    # String representation\n",
    "    def __str__(self):\n",
    "        return f\"{self.name}\"\n",
    "    \n",
    "    def __len__(self):\n",
    "        return len(self.name)"
   ]
  },
  {
   "cell_type": "code",
   "execution_count": 111,
   "metadata": {},
   "outputs": [],
   "source": [
    "s3 = Student.from_string(string)"
   ]
  },
  {
   "cell_type": "code",
   "execution_count": 112,
   "metadata": {},
   "outputs": [
    {
     "data": {
      "text/plain": [
       "Akshay 17 8th"
      ]
     },
     "execution_count": 112,
     "metadata": {},
     "output_type": "execute_result"
    }
   ],
   "source": [
    "s3"
   ]
  },
  {
   "cell_type": "code",
   "execution_count": 113,
   "metadata": {},
   "outputs": [
    {
     "data": {
      "text/plain": [
       "'You are in 7th sem.You should read 2nd year books for ITC'"
      ]
     },
     "execution_count": 113,
     "metadata": {},
     "output_type": "execute_result"
    }
   ],
   "source": [
    "s3.subject(7, \"ITC\")"
   ]
  },
  {
   "cell_type": "code",
   "execution_count": 114,
   "metadata": {},
   "outputs": [],
   "source": [
    "class StudentMBBS(Student):\n",
    "    pass"
   ]
  },
  {
   "cell_type": "code",
   "execution_count": 115,
   "metadata": {},
   "outputs": [
    {
     "ename": "TypeError",
     "evalue": "__init__() missing 3 required positional arguments: 'name', 'sem', and 'roll'",
     "output_type": "error",
     "traceback": [
      "\u001b[0;31m---------------------------------------------------------------------------\u001b[0m",
      "\u001b[0;31mTypeError\u001b[0m                                 Traceback (most recent call last)",
      "\u001b[0;32m<ipython-input-115-6f0df46c16dd>\u001b[0m in \u001b[0;36m<module>\u001b[0;34m\u001b[0m\n\u001b[0;32m----> 1\u001b[0;31m \u001b[0msm\u001b[0m \u001b[0;34m=\u001b[0m \u001b[0mStudentMBBS\u001b[0m\u001b[0;34m(\u001b[0m\u001b[0;34m)\u001b[0m\u001b[0;34m\u001b[0m\u001b[0;34m\u001b[0m\u001b[0m\n\u001b[0m",
      "\u001b[0;31mTypeError\u001b[0m: __init__() missing 3 required positional arguments: 'name', 'sem', and 'roll'"
     ]
    }
   ],
   "source": [
    "sm = StudentMBBS()"
   ]
  },
  {
   "cell_type": "code",
   "execution_count": 116,
   "metadata": {},
   "outputs": [],
   "source": [
    "sm = StudentMBBS(\"Gopal\", \"7th\", 17)"
   ]
  },
  {
   "cell_type": "code",
   "execution_count": 117,
   "metadata": {},
   "outputs": [
    {
     "data": {
      "text/plain": [
       "'Mr. Gopal'"
      ]
     },
     "execution_count": 117,
     "metadata": {},
     "output_type": "execute_result"
    }
   ],
   "source": [
    "sm.show()"
   ]
  },
  {
   "cell_type": "code",
   "execution_count": 121,
   "metadata": {},
   "outputs": [],
   "source": [
    "class StudentMBBS(Student):\n",
    "    def __init__(self, name, sem, roll, spec):\n",
    "        super().__init__(name, sem, roll)\n",
    "        \n",
    "        self.spec = spec\n",
    "        "
   ]
  },
  {
   "cell_type": "code",
   "execution_count": 122,
   "metadata": {},
   "outputs": [],
   "source": [
    "sm = StudentMBBS(\"Gopal\", \"7th\", 17, \"Heart\")"
   ]
  },
  {
   "cell_type": "code",
   "execution_count": 123,
   "metadata": {},
   "outputs": [
    {
     "data": {
      "text/plain": [
       "'Heart'"
      ]
     },
     "execution_count": 123,
     "metadata": {},
     "output_type": "execute_result"
    }
   ],
   "source": [
    "sm.spec"
   ]
  },
  {
   "cell_type": "code",
   "execution_count": null,
   "metadata": {},
   "outputs": [],
   "source": []
  },
  {
   "cell_type": "code",
   "execution_count": null,
   "metadata": {},
   "outputs": [],
   "source": []
  }
 ],
 "metadata": {
  "kernelspec": {
   "display_name": "Python 3",
   "language": "python",
   "name": "python3"
  },
  "language_info": {
   "codemirror_mode": {
    "name": "ipython",
    "version": 3
   },
   "file_extension": ".py",
   "mimetype": "text/x-python",
   "name": "python",
   "nbconvert_exporter": "python",
   "pygments_lexer": "ipython3",
   "version": "3.6.9"
  }
 },
 "nbformat": 4,
 "nbformat_minor": 4
}

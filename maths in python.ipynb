{
 "cells": [
  {
   "cell_type": "code",
   "execution_count": 1,
   "metadata": {},
   "outputs": [
    {
     "name": "stdout",
     "output_type": "stream",
     "text": [
      "Hello\n",
      "Welcome\n",
      "to\n",
      "adhoc\n"
     ]
    }
   ],
   "source": [
    "#1\n",
    "def myFun(*argv):  \n",
    "    for arg in argv:  \n",
    "        print (arg) \n",
    "    \n",
    "myFun('Hello', 'Welcome', 'to', 'adhoc')"
   ]
  },
  {
   "cell_type": "code",
   "execution_count": 2,
   "metadata": {},
   "outputs": [
    {
     "name": "stdout",
     "output_type": "stream",
     "text": [
      "first == dark\n",
      "mid == ace\n",
      "last == #1\n"
     ]
    }
   ],
   "source": [
    "#2\n",
    "def myFun(**kwargs):  \n",
    "    for key, value in kwargs.items(): \n",
    "        print (\"%s == %s\" %(key, value)) \n",
    "  \n",
    "# Driver code \n",
    "myFun(first ='dark', mid ='ace', last='#1')  "
   ]
  },
  {
   "cell_type": "code",
   "execution_count": 3,
   "metadata": {},
   "outputs": [
    {
     "name": "stdout",
     "output_type": "stream",
     "text": [
      "343\n"
     ]
    }
   ],
   "source": [
    "#3\n",
    "cube = lambda x: x*x*x  \n",
    "print(cube(7))  "
   ]
  },
  {
   "cell_type": "markdown",
   "metadata": {},
   "source": [
    "## maths in python\n"
   ]
  },
  {
   "cell_type": "markdown",
   "metadata": {},
   "source": [
    " ## exp(a) :- This function returns the value of e raised to the power a (e**a) ."
   ]
  },
  {
   "cell_type": "code",
   "execution_count": 4,
   "metadata": {},
   "outputs": [
    {
     "name": "stdout",
     "output_type": "stream",
     "text": [
      "The e**4 value is : 54.598150033144236\n",
      "The value of log 2 with base 3 is : 0.6309297535714574\n"
     ]
    }
   ],
   "source": [
    "import math \n",
    "   \n",
    "# returning the exp of 4 \n",
    "print (\"The e**4 value is : \", end=\"\") \n",
    "print (math.exp(4)) \n",
    "   \n",
    "# returning the log of 2,3 \n",
    "print (\"The value of log 2 with base 3 is : \", end=\"\") \n",
    "print (math.log(2,3)) "
   ]
  },
  {
   "cell_type": "markdown",
   "metadata": {},
   "source": [
    "## log(a, b) :- This function returns the logarithmic value of a with base b. If base is not mentioned, the computed value is of natural log."
   ]
  },
  {
   "cell_type": "code",
   "execution_count": 5,
   "metadata": {},
   "outputs": [
    {
     "name": "stdout",
     "output_type": "stream",
     "text": [
      "The e**4 value is : 54.598150033144236\n",
      "The value of log 2 with base 3 is : 0.6309297535714574\n"
     ]
    }
   ],
   "source": [
    "import math \n",
    "   \n",
    "# returning the exp of 4 \n",
    "print (\"The e**4 value is : \", end=\"\") \n",
    "print (math.exp(4)) \n",
    "   \n",
    "# returning the log of 2,3 \n",
    "print (\"The value of log 2 with base 3 is : \", end=\"\") \n",
    "print (math.log(2,3)) "
   ]
  },
  {
   "cell_type": "markdown",
   "metadata": {},
   "source": [
    "##  log2(a) :- This function computes value of log a with base 2. This value is more accurate than the value of the function discussed above.\n",
    "## log10(a) :- This function computes value of log a with base 10. This value is more accurate than the value of the function discussed above."
   ]
  },
  {
   "cell_type": "code",
   "execution_count": 6,
   "metadata": {},
   "outputs": [
    {
     "name": "stdout",
     "output_type": "stream",
     "text": [
      "The value of log2 of 16 is : 4.0\n",
      "The value of log10 of 10000 is : 4.0\n"
     ]
    }
   ],
   "source": [
    "# importing \"math\" for mathematical operations \n",
    "import math \n",
    "   \n",
    "# returning the log2 of 16 \n",
    "print (\"The value of log2 of 16 is : \", end=\"\") \n",
    "print (math.log2(16)) \n",
    "   \n",
    "# returning the log10 of 10000 \n",
    "print (\"The value of log10 of 10000 is : \", end=\"\") \n",
    "print (math.log10(10000)) "
   ]
  },
  {
   "cell_type": "markdown",
   "metadata": {},
   "source": [
    "##  pow(a, b) :- This function is used to compute value of a raised to the power b (a**b).\n",
    "## sqrt() :- This function returns the square root of the number."
   ]
  },
  {
   "cell_type": "code",
   "execution_count": 7,
   "metadata": {},
   "outputs": [
    {
     "name": "stdout",
     "output_type": "stream",
     "text": [
      "The value of 3 to the power 2 is : 9.0\n",
      "The value of square root of 25 : 5.0\n"
     ]
    }
   ],
   "source": [
    "import math \n",
    "   \n",
    "# returning the value of 3**2 \n",
    "print (\"The value of 3 to the power 2 is : \", end=\"\") \n",
    "print (math.pow(3,2)) \n",
    "   \n",
    "# returning the square root of 25 \n",
    "print (\"The value of square root of 25 : \", end=\"\") \n",
    "print (math.sqrt(25)) "
   ]
  },
  {
   "cell_type": "markdown",
   "metadata": {},
   "source": [
    "## gamma() :- This function is used to return the gamma function of the argument."
   ]
  },
  {
   "cell_type": "code",
   "execution_count": 8,
   "metadata": {},
   "outputs": [
    {
     "name": "stdout",
     "output_type": "stream",
     "text": [
      "The gamma() of 4 is : 6.0\n"
     ]
    }
   ],
   "source": [
    "# importing \"math\" for mathematical operations \n",
    "import math \n",
    "  \n",
    "a = 4\n",
    "  \n",
    "# returning the gamma() of 4 \n",
    "print (\"The gamma() of 4 is : \", end=\"\") \n",
    "print (math.gamma(a)) "
   ]
  },
  {
   "cell_type": "markdown",
   "metadata": {},
   "source": [
    "## pi :- This is an inbuilt constant that outputs the value of pi(3.141592).\n",
    "\n",
    "## e :- This is an inbuilt constant that outputs the value of e(2.718281)."
   ]
  },
  {
   "cell_type": "code",
   "execution_count": 9,
   "metadata": {},
   "outputs": [
    {
     "name": "stdout",
     "output_type": "stream",
     "text": [
      "The value of const. pi is : 3.141592653589793\n",
      "The value of const. e is : 2.718281828459045\n"
     ]
    }
   ],
   "source": [
    "# importing \"math\" for mathematical operations \n",
    "import math \n",
    "  \n",
    "# returning the value of const. pi \n",
    "print (\"The value of const. pi is : \", end=\"\") \n",
    "print (math.pi) \n",
    "  \n",
    "# returning the value of const. e \n",
    "print (\"The value of const. e is : \", end=\"\") \n",
    "print (math.e) "
   ]
  },
  {
   "cell_type": "code",
   "execution_count": null,
   "metadata": {},
   "outputs": [],
   "source": []
  }
 ],
 "metadata": {
  "kernelspec": {
   "display_name": "Python 3",
   "language": "python",
   "name": "python3"
  },
  "language_info": {
   "codemirror_mode": {
    "name": "ipython",
    "version": 3
   },
   "file_extension": ".py",
   "mimetype": "text/x-python",
   "name": "python",
   "nbconvert_exporter": "python",
   "pygments_lexer": "ipython3",
   "version": "3.6.4"
  }
 },
 "nbformat": 4,
 "nbformat_minor": 2
}

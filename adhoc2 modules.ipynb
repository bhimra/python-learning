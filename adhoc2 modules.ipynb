{
 "cells": [
  {
   "cell_type": "code",
   "execution_count": 4,
   "metadata": {},
   "outputs": [],
   "source": [
    "def add(*args):                              ##code1 run at ops.py\n",
    "    return sum(args)"
   ]
  },
  {
   "cell_type": "code",
   "execution_count": 5,
   "metadata": {},
   "outputs": [],
   "source": [
    "def find_max(*args):\n",
    "    return max(args)"
   ]
  },
  {
   "cell_type": "code",
   "execution_count": 6,
   "metadata": {},
   "outputs": [],
   "source": [
    "def find_min(*args):\n",
    "    return min(args)"
   ]
  },
  {
   "cell_type": "code",
   "execution_count": 7,
   "metadata": {},
   "outputs": [
    {
     "ename": "SyntaxError",
     "evalue": "invalid syntax (<ipython-input-7-39accbfb06f6>, line 1)",
     "output_type": "error",
     "traceback": [
      "\u001b[1;36m  File \u001b[1;32m\"<ipython-input-7-39accbfb06f6>\"\u001b[1;36m, line \u001b[1;32m1\u001b[0m\n\u001b[1;33m    from adhoc2 modules import find_max , find_min , add                   ##code2 run at test.py\u001b[0m\n\u001b[1;37m                      ^\u001b[0m\n\u001b[1;31mSyntaxError\u001b[0m\u001b[1;31m:\u001b[0m invalid syntax\n"
     ]
    }
   ],
   "source": [
    "from adhoc2 modules import find_max , find_min , add                   ##code2 run at test.py\n",
    "print(find_max(3,4,3,5,4), find_min(4,6,3,2),add(4,3,2,7))\n",
    "\n",
    "# * all the function"
   ]
  },
  {
   "cell_type": "markdown",
   "metadata": {},
   "source": [
    "## oops\n",
    "\n"
   ]
  },
  {
   "cell_type": "code",
   "execution_count": 9,
   "metadata": {},
   "outputs": [
    {
     "name": "stdout",
     "output_type": "stream",
     "text": [
      "False\n"
     ]
    }
   ],
   "source": [
    "#syntax\n",
    "class Student:                       ######   Class is blueprint       \n",
    "    pass\n",
    "s1= Student()                         #### s1, s2 is instance == object(ghar)\n",
    "s2 = Student()\n",
    "#print(s1 == s2)"
   ]
  },
  {
   "cell_type": "code",
   "execution_count": 11,
   "metadata": {},
   "outputs": [
    {
     "name": "stdout",
     "output_type": "stream",
     "text": [
      "uchiha 8th 17\n"
     ]
    },
    {
     "ename": "AttributeError",
     "evalue": "'Student' object has no attribute 'name'",
     "output_type": "error",
     "traceback": [
      "\u001b[1;31m---------------------------------------------------------------------------\u001b[0m",
      "\u001b[1;31mAttributeError\u001b[0m                            Traceback (most recent call last)",
      "\u001b[1;32m<ipython-input-11-480e3daeccf0>\u001b[0m in \u001b[0;36m<module>\u001b[1;34m()\u001b[0m\n\u001b[0;32m      3\u001b[0m \u001b[0ms1\u001b[0m\u001b[1;33m.\u001b[0m\u001b[0mroll\u001b[0m \u001b[1;33m=\u001b[0m \u001b[1;36m17\u001b[0m\u001b[1;33m\u001b[0m\u001b[0m\n\u001b[0;32m      4\u001b[0m \u001b[0mprint\u001b[0m\u001b[1;33m(\u001b[0m\u001b[0ms1\u001b[0m\u001b[1;33m.\u001b[0m\u001b[0mname\u001b[0m\u001b[1;33m,\u001b[0m \u001b[0ms1\u001b[0m\u001b[1;33m.\u001b[0m\u001b[0msem\u001b[0m\u001b[1;33m,\u001b[0m \u001b[0ms1\u001b[0m\u001b[1;33m.\u001b[0m\u001b[0mroll\u001b[0m\u001b[1;33m)\u001b[0m\u001b[1;33m\u001b[0m\u001b[0m\n\u001b[1;32m----> 5\u001b[1;33m \u001b[0mprint\u001b[0m\u001b[1;33m(\u001b[0m\u001b[0ms2\u001b[0m\u001b[1;33m.\u001b[0m\u001b[0mname\u001b[0m\u001b[1;33m,\u001b[0m \u001b[0ms2\u001b[0m\u001b[1;33m.\u001b[0m\u001b[0msem\u001b[0m\u001b[1;33m,\u001b[0m \u001b[0ms2\u001b[0m\u001b[1;33m.\u001b[0m\u001b[0mroll\u001b[0m\u001b[1;33m)\u001b[0m\u001b[1;33m\u001b[0m\u001b[0m\n\u001b[0m",
      "\u001b[1;31mAttributeError\u001b[0m: 'Student' object has no attribute 'name'"
     ]
    }
   ],
   "source": [
    "s1.name = \"uchiha\"\n",
    "s1.sem = \"8th\"\n",
    "s1.roll = 17\n",
    "print(s1.name, s1.sem, s1.roll)\n",
    "print(s2.name, s2.sem, s2.roll)"
   ]
  },
  {
   "cell_type": "code",
   "execution_count": 12,
   "metadata": {},
   "outputs": [
    {
     "name": "stdout",
     "output_type": "stream",
     "text": [
      "uchiha 8th 17\n"
     ]
    }
   ],
   "source": [
    "self = Student()\n",
    "\n",
    "\n",
    "self.name = \"uchiha\"\n",
    "self.sem = \"8th\"\n",
    "self.roll = 17\n",
    "print(self.name, self.sem, self.roll)"
   ]
  },
  {
   "cell_type": "code",
   "execution_count": 13,
   "metadata": {},
   "outputs": [],
   "source": [
    "class Student:\n",
    "    #Attribute initialization\n",
    "    def __init__(self,name,sem,roll):\n",
    "        self.name= name\n",
    "        self.sem = sem\n",
    "        self.roll = roll"
   ]
  },
  {
   "cell_type": "code",
   "execution_count": 14,
   "metadata": {},
   "outputs": [],
   "source": [
    "s= Student(\"uchiha\",\"8th\",17)"
   ]
  },
  {
   "cell_type": "code",
   "execution_count": 15,
   "metadata": {},
   "outputs": [
    {
     "name": "stdout",
     "output_type": "stream",
     "text": [
      "uchiha 17 8th\n"
     ]
    }
   ],
   "source": [
    "print(s.name,s.roll,s.sem)"
   ]
  },
  {
   "cell_type": "code",
   "execution_count": 16,
   "metadata": {},
   "outputs": [],
   "source": [
    "###funcationality\n",
    "def show_fullname():\n",
    "    return \"Full name\"\n"
   ]
  },
  {
   "cell_type": "code",
   "execution_count": 17,
   "metadata": {},
   "outputs": [],
   "source": [
    "s.show = show_fullname\n"
   ]
  },
  {
   "cell_type": "code",
   "execution_count": 18,
   "metadata": {},
   "outputs": [
    {
     "data": {
      "text/plain": [
       "'Full name'"
      ]
     },
     "execution_count": 18,
     "metadata": {},
     "output_type": "execute_result"
    }
   ],
   "source": [
    "s.show()"
   ]
  },
  {
   "cell_type": "code",
   "execution_count": 19,
   "metadata": {},
   "outputs": [],
   "source": [
    "class Student:\n",
    "    #Attribute initialization\n",
    "    def __init__(self,name,sem,roll):\n",
    "        self.name= name\n",
    "        self.sem = sem\n",
    "        self.roll = roll\n",
    "        \n",
    "    def show(self):\n",
    "        return f\"{self.name}\""
   ]
  },
  {
   "cell_type": "code",
   "execution_count": 20,
   "metadata": {},
   "outputs": [
    {
     "data": {
      "text/plain": [
       "'uchiha'"
      ]
     },
     "execution_count": 20,
     "metadata": {},
     "output_type": "execute_result"
    }
   ],
   "source": [
    "s = Student(\"uchiha\",17,\"8th\")\n",
    "s.show()"
   ]
  },
  {
   "cell_type": "code",
   "execution_count": 39,
   "metadata": {},
   "outputs": [],
   "source": [
    "class Student:\n",
    "    #Attribute initialization\n",
    "    def __init__(self,name,sem,roll):\n",
    "        self.name= name\n",
    "        self.sem = sem\n",
    "        self.roll = roll\n",
    "    \n",
    "    def full_name(func):\n",
    "        def new_func(args):\n",
    "            result = func(args)\n",
    "            return \"Mr. \" + result\n",
    "        return new_func\n",
    "    \"\"\"\n",
    "    \n",
    "    \"\"\"\n",
    "    @full_name\n",
    "    \n",
    "    def show(self):\n",
    "        return f\"{self.name}\"\n",
    "    ###object representation\n",
    "    def __repr__(self):\n",
    "        return f\" {self.sem} {self.roll}\"\n",
    "    \n",
    "    ### string representation\n",
    "    def __str__(self):\n",
    "        return f\"{self.name}\"\n",
    "    \n",
    "    def __len__(self):\n",
    "        return len(self.name)\n",
    "    \n",
    "    "
   ]
  },
  {
   "cell_type": "code",
   "execution_count": 40,
   "metadata": {},
   "outputs": [],
   "source": [
    "s= Student(\"uchiha\",\"8th\",17)"
   ]
  },
  {
   "cell_type": "code",
   "execution_count": 41,
   "metadata": {},
   "outputs": [
    {
     "data": {
      "text/plain": [
       "'Mr. uchiha'"
      ]
     },
     "execution_count": 41,
     "metadata": {},
     "output_type": "execute_result"
    }
   ],
   "source": [
    "s.show()"
   ]
  },
  {
   "cell_type": "markdown",
   "metadata": {},
   "source": [
    "## property , class methods , static method , inheritance\n"
   ]
  },
  {
   "cell_type": "code",
   "execution_count": 49,
   "metadata": {},
   "outputs": [],
   "source": [
    "class Student:\n",
    "    \n",
    "    leaves = 20\n",
    "    \n",
    "    #Attribute initialization\n",
    "    def __init__(self,name,sem,roll):\n",
    "        self.name= name\n",
    "        self.sem = sem\n",
    "        self.roll = roll\n",
    "    \n",
    "    def full_name(func):\n",
    "        def new_func(args):\n",
    "            result = func(args)\n",
    "            return \"Mr. \" + result\n",
    "        return new_func\n",
    "    \"\"\"\n",
    "    \n",
    "    \"\"\"\n",
    "    @full_name\n",
    "    \n",
    "    def show(self):\n",
    "        return f\"{self.name}\"\n",
    "    \n",
    "    @property                        ### decorator as an attribute\n",
    "    def take_leave(self):\n",
    "        if Student.leaves <= 0:\n",
    "            return \"you dnt have any leaves.\"\n",
    "        Student.leaves -= 1\n",
    "        return Student.leaves\n",
    "    \n",
    "    @classmethod\n",
    "    def from_string(cls, string, marker = \"-\"):\n",
    "        name, sem , roll = string.split(marker)\n",
    "        return cls(name,sem, roll)\n",
    "    ###object representation\n",
    "    def __repr__(self):\n",
    "        return f\" {self.name} {self.sem} {self.roll}\"\n",
    "    \n",
    "    ### string representation\n",
    "    def __str__(self):\n",
    "        return f\"{self.name}\"\n",
    "    \n",
    "    def __len__(self):\n",
    "        return len(self.name)\n",
    "    \n",
    "    "
   ]
  },
  {
   "cell_type": "code",
   "execution_count": 50,
   "metadata": {},
   "outputs": [],
   "source": [
    "s= Student(\"uchiha\",\"8th\",17)"
   ]
  },
  {
   "cell_type": "code",
   "execution_count": 51,
   "metadata": {},
   "outputs": [
    {
     "data": {
      "text/plain": [
       "20"
      ]
     },
     "execution_count": 51,
     "metadata": {},
     "output_type": "execute_result"
    }
   ],
   "source": [
    "s.leaves"
   ]
  },
  {
   "cell_type": "code",
   "execution_count": 52,
   "metadata": {},
   "outputs": [
    {
     "ename": "TypeError",
     "evalue": "'int' object is not callable",
     "output_type": "error",
     "traceback": [
      "\u001b[1;31m---------------------------------------------------------------------------\u001b[0m",
      "\u001b[1;31mTypeError\u001b[0m                                 Traceback (most recent call last)",
      "\u001b[1;32m<ipython-input-52-53e382ec33e7>\u001b[0m in \u001b[0;36m<module>\u001b[1;34m()\u001b[0m\n\u001b[1;32m----> 1\u001b[1;33m \u001b[0ms\u001b[0m\u001b[1;33m.\u001b[0m\u001b[0mtake_leave\u001b[0m\u001b[1;33m(\u001b[0m\u001b[1;33m)\u001b[0m\u001b[1;33m\u001b[0m\u001b[0m\n\u001b[0m",
      "\u001b[1;31mTypeError\u001b[0m: 'int' object is not callable"
     ]
    }
   ],
   "source": [
    "s.take_leave()"
   ]
  },
  {
   "cell_type": "code",
   "execution_count": 53,
   "metadata": {},
   "outputs": [
    {
     "data": {
      "text/plain": [
       "18"
      ]
     },
     "execution_count": 53,
     "metadata": {},
     "output_type": "execute_result"
    }
   ],
   "source": [
    "s.take_leave"
   ]
  },
  {
   "cell_type": "code",
   "execution_count": 54,
   "metadata": {},
   "outputs": [],
   "source": [
    "for i in range(15):\n",
    "    s.take_leave"
   ]
  },
  {
   "cell_type": "code",
   "execution_count": 55,
   "metadata": {},
   "outputs": [
    {
     "data": {
      "text/plain": [
       "2"
      ]
     },
     "execution_count": 55,
     "metadata": {},
     "output_type": "execute_result"
    }
   ],
   "source": [
    "s.take_leave"
   ]
  },
  {
   "cell_type": "code",
   "execution_count": 56,
   "metadata": {},
   "outputs": [],
   "source": [
    "string = \"uchiha-8th-17\""
   ]
  },
  {
   "cell_type": "code",
   "execution_count": 57,
   "metadata": {},
   "outputs": [
    {
     "data": {
      "text/plain": [
       "['uchiha', '8th', '17']"
      ]
     },
     "execution_count": 57,
     "metadata": {},
     "output_type": "execute_result"
    }
   ],
   "source": [
    "string.split(\"-\")"
   ]
  },
  {
   "cell_type": "code",
   "execution_count": 58,
   "metadata": {},
   "outputs": [],
   "source": [
    "l = string.split(\"-\")"
   ]
  },
  {
   "cell_type": "code",
   "execution_count": 59,
   "metadata": {},
   "outputs": [
    {
     "data": {
      "text/plain": [
       "['uchiha', '8th', '17']"
      ]
     },
     "execution_count": 59,
     "metadata": {},
     "output_type": "execute_result"
    }
   ],
   "source": [
    "l"
   ]
  },
  {
   "cell_type": "code",
   "execution_count": 60,
   "metadata": {},
   "outputs": [],
   "source": [
    "name, sem, roll = l"
   ]
  },
  {
   "cell_type": "code",
   "execution_count": 61,
   "metadata": {},
   "outputs": [],
   "source": [
    "s2 = Student(name, sem, roll)"
   ]
  },
  {
   "cell_type": "code",
   "execution_count": 62,
   "metadata": {},
   "outputs": [],
   "source": [
    "string = \"aka-7th-23\""
   ]
  },
  {
   "cell_type": "code",
   "execution_count": 63,
   "metadata": {},
   "outputs": [],
   "source": [
    "s2 = Student.from_string(string)"
   ]
  },
  {
   "cell_type": "code",
   "execution_count": 64,
   "metadata": {},
   "outputs": [
    {
     "data": {
      "text/plain": [
       " aka 7th 23"
      ]
     },
     "execution_count": 64,
     "metadata": {},
     "output_type": "execute_result"
    }
   ],
   "source": [
    "s2"
   ]
  },
  {
   "cell_type": "code",
   "execution_count": 65,
   "metadata": {},
   "outputs": [
    {
     "data": {
      "text/plain": [
       "'Mr. aka'"
      ]
     },
     "execution_count": 65,
     "metadata": {},
     "output_type": "execute_result"
    }
   ],
   "source": [
    "s2.show()"
   ]
  },
  {
   "cell_type": "code",
   "execution_count": 66,
   "metadata": {},
   "outputs": [],
   "source": [
    "######static methiod"
   ]
  },
  {
   "cell_type": "code",
   "execution_count": 71,
   "metadata": {},
   "outputs": [],
   "source": [
    "class Student:\n",
    "    \n",
    "    leaves = 20\n",
    "    \n",
    "    #Attribute initialization\n",
    "    def __init__(self,name,sem,roll):\n",
    "        self.name= name\n",
    "        self.sem = sem\n",
    "        self.roll = roll\n",
    "    \n",
    "    def full_name(func):\n",
    "        def new_func(args):\n",
    "            result = func(args)\n",
    "            return \"Mr. \" + result\n",
    "        return new_func\n",
    "    \"\"\"\n",
    "    \n",
    "    \"\"\"\n",
    "    @full_name\n",
    "    \n",
    "    def show(self):\n",
    "        return f\"{self.name}\"\n",
    "    \n",
    "    @property                        ### decorator as an attribute\n",
    "    def take_leave(self):\n",
    "        if Student.leaves <= 0:\n",
    "            return \"you dnt have any leaves.\"\n",
    "        Student.leaves -= 1\n",
    "        return Student.leaves\n",
    "    \n",
    "    @classmethod\n",
    "    def from_string(cls, string, marker = \"-\"):\n",
    "        name, sem , roll = string.split(marker)\n",
    "        return cls(name,sem, roll)\n",
    "    \n",
    "    @staticmethod\n",
    "    def subject(sem, sub_name):\n",
    "        return f\"you are in {sem}th sem.you should read 2nd year books for {sub_name}\"\n",
    "    \n",
    "    ###object representation\n",
    "    def __repr__(self):\n",
    "        return f\" {self.name} {self.sem} {self.roll}\"\n",
    "    \n",
    "    ### string representation\n",
    "    def __str__(self):\n",
    "        return f\"{self.name}\"\n",
    "    \n",
    "    def __len__(self):\n",
    "        return len(self.name)\n",
    "    \n",
    "    "
   ]
  },
  {
   "cell_type": "code",
   "execution_count": 72,
   "metadata": {},
   "outputs": [],
   "source": [
    "s3 = Student.from_string(string)"
   ]
  },
  {
   "cell_type": "code",
   "execution_count": 73,
   "metadata": {},
   "outputs": [
    {
     "data": {
      "text/plain": [
       " aka 7th 23"
      ]
     },
     "execution_count": 73,
     "metadata": {},
     "output_type": "execute_result"
    }
   ],
   "source": [
    "s3"
   ]
  },
  {
   "cell_type": "code",
   "execution_count": 74,
   "metadata": {},
   "outputs": [
    {
     "data": {
      "text/plain": [
       "'you are in 7th sem.you should read 2nd year books for ITC'"
      ]
     },
     "execution_count": 74,
     "metadata": {},
     "output_type": "execute_result"
    }
   ],
   "source": [
    "s3.subject(7, \"ITC\")"
   ]
  },
  {
   "cell_type": "markdown",
   "metadata": {},
   "source": [
    "## inhertiance"
   ]
  },
  {
   "cell_type": "code",
   "execution_count": 75,
   "metadata": {},
   "outputs": [],
   "source": [
    "class StudentMBBS(Student):\n",
    "    pass\n"
   ]
  },
  {
   "cell_type": "code",
   "execution_count": 76,
   "metadata": {},
   "outputs": [
    {
     "ename": "TypeError",
     "evalue": "__init__() missing 3 required positional arguments: 'name', 'sem', and 'roll'",
     "output_type": "error",
     "traceback": [
      "\u001b[1;31m---------------------------------------------------------------------------\u001b[0m",
      "\u001b[1;31mTypeError\u001b[0m                                 Traceback (most recent call last)",
      "\u001b[1;32m<ipython-input-76-6f0df46c16dd>\u001b[0m in \u001b[0;36m<module>\u001b[1;34m()\u001b[0m\n\u001b[1;32m----> 1\u001b[1;33m \u001b[0msm\u001b[0m \u001b[1;33m=\u001b[0m \u001b[0mStudentMBBS\u001b[0m\u001b[1;33m(\u001b[0m\u001b[1;33m)\u001b[0m\u001b[1;33m\u001b[0m\u001b[0m\n\u001b[0m",
      "\u001b[1;31mTypeError\u001b[0m: __init__() missing 3 required positional arguments: 'name', 'sem', and 'roll'"
     ]
    }
   ],
   "source": [
    "sm = StudentMBBS()"
   ]
  },
  {
   "cell_type": "code",
   "execution_count": 77,
   "metadata": {},
   "outputs": [],
   "source": [
    "sm = StudentMBBS(\"itachi\",\"7th\", 9)"
   ]
  },
  {
   "cell_type": "code",
   "execution_count": 78,
   "metadata": {},
   "outputs": [
    {
     "data": {
      "text/plain": [
       "'Mr. itachi'"
      ]
     },
     "execution_count": 78,
     "metadata": {},
     "output_type": "execute_result"
    }
   ],
   "source": [
    "sm.show()"
   ]
  },
  {
   "cell_type": "code",
   "execution_count": 80,
   "metadata": {},
   "outputs": [],
   "source": [
    "class StudentMBBS(Student):\n",
    "    def __init__(self,name,sem,roll,spec):\n",
    "        super().__init__(name, sem , roll)\n",
    "        self.spec = spec\n",
    "        \n",
    "    ##### upr k code ki jaise krna h property "
   ]
  },
  {
   "cell_type": "code",
   "execution_count": 81,
   "metadata": {},
   "outputs": [],
   "source": [
    "sm = StudentMBBS(\"madara\",\"5th\",3,\"sharingan\")"
   ]
  },
  {
   "cell_type": "code",
   "execution_count": 82,
   "metadata": {},
   "outputs": [
    {
     "data": {
      "text/plain": [
       "'sharingan'"
      ]
     },
     "execution_count": 82,
     "metadata": {},
     "output_type": "execute_result"
    }
   ],
   "source": [
    "sm.spec"
   ]
  },
  {
   "cell_type": "code",
   "execution_count": null,
   "metadata": {},
   "outputs": [],
   "source": []
  }
 ],
 "metadata": {
  "kernelspec": {
   "display_name": "Python 3",
   "language": "python",
   "name": "python3"
  },
  "language_info": {
   "codemirror_mode": {
    "name": "ipython",
    "version": 3
   },
   "file_extension": ".py",
   "mimetype": "text/x-python",
   "name": "python",
   "nbconvert_exporter": "python",
   "pygments_lexer": "ipython3",
   "version": "3.6.4"
  }
 },
 "nbformat": 4,
 "nbformat_minor": 2
}

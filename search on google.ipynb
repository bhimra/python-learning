{
 "cells": [
  {
   "cell_type": "markdown",
   "metadata": {},
   "source": [
    "## write a code using  that will take user input from and search on google and store top 10 url in the list."
   ]
  },
  {
   "cell_type": "code",
   "execution_count": null,
   "metadata": {},
   "outputs": [],
   "source": [
    "from googlesearch import search"
   ]
  },
  {
   "cell_type": "code",
   "execution_count": null,
   "metadata": {},
   "outputs": [],
   "source": [
    "ip=input(\"What would you like to search for? \")\n",
    "\n",
    "for url in search(ip, stop=20):\n",
    "     print(url)"
   ]
  },
  {
   "cell_type": "code",
   "execution_count": 1,
   "metadata": {},
   "outputs": [],
   "source": [
    "from googlesearch import search"
   ]
  },
  {
   "cell_type": "code",
   "execution_count": 2,
   "metadata": {},
   "outputs": [
    {
     "name": "stdout",
     "output_type": "stream",
     "text": [
      "Enter your search term tomato\n",
      "https://www.healthline.com/nutrition/foods/tomatoes\n",
      "https://en.wikipedia.org/wiki/Tomato\n",
      "https://en.wikipedia.org/wiki/List_of_tomato_cultivars\n",
      "https://en.wikipedia.org/wiki/Cherry_tomato\n",
      "https://en.wikipedia.org/wiki/Blue_tomato\n",
      "['https://www.healthline.com/nutrition/foods/tomatoes', 'https://en.wikipedia.org/wiki/Tomato', 'https://en.wikipedia.org/wiki/List_of_tomato_cultivars', 'https://en.wikipedia.org/wiki/Cherry_tomato', 'https://en.wikipedia.org/wiki/Blue_tomato']\n",
      "['https://www.healthline.com/nutrition/foods/tomatoes', 'https://www.healthline.com/nutrition/50-super-healthy-foods', 'https://www.healthline.com/nutrition/20-foods-to-avoid-like-the-plague', 'https://www.healthline.com/nutrition/29-cheap-healthy-foods', 'https://www.healthline.com/nutrition/mercury-in-tuna', 'https://en.wikipedia.org/wiki/Tomato', 'https://en.wikipedia.org/wiki/Lycopersicon', 'https://simple.wikipedia.org/wiki/Tomato', 'https://en.wikipedia.org/wiki/Tomato_(firmware)', 'https://en.wikipedia.org/wiki/Vegetable', 'https://en.wikipedia.org/wiki/List_of_tomato_cultivars', 'https://en.wikipedia.org/wiki/Talk%3AList_of_tomato_cultivars', 'https://en.wikipedia.org/wiki/Tomato', 'https://en.wikipedia.org/wiki/Beefsteak_tomato', 'https://en.wikipedia.org/wiki/Adoration_tomato', 'https://en.wikipedia.org/wiki/Cherry_tomato', 'https://en.wikipedia.org/wiki/Cherry_tomato#History', 'https://en.wikipedia.org/wiki/Cherry_tomato#Cultivars', 'https://en.wikipedia.org/wiki/List_of_tomato_cultivars', 'https://simple.wikipedia.org/wiki/Cherry_tomato', 'https://en.wikipedia.org/wiki/Blue_tomato', 'https://en.wikipedia.org/wiki/Blue_tomato#Conventional_breeding', 'https://en.wikipedia.org/wiki/Blue_tomato#Biotechnology', 'https://en.wikipedia.org/wiki/Talk%3ABlue_tomato', 'https://en.m.wikipedia.org/wiki/File:BlueTomato.jpg']\n"
     ]
    }
   ],
   "source": [
    "import time\n",
    "web=input('Enter your search term ')\n",
    "\n",
    "l1 = []\n",
    "l2 = []\n",
    "for i in search(web,stop=5):\n",
    "\tprint(i) # i will only print the url\n",
    "\ttime.sleep(1)\n",
    "\tl1.append(i)\n",
    "print(l1)\n",
    "for i in l1:\n",
    "  for j in search(i,stop=5):\n",
    "    l2.append(j)\n",
    "print(l2)\n"
   ]
  },
  {
   "cell_type": "code",
   "execution_count": null,
   "metadata": {},
   "outputs": [],
   "source": []
  }
 ],
 "metadata": {
  "kernelspec": {
   "display_name": "Python 3",
   "language": "python",
   "name": "python3"
  },
  "language_info": {
   "codemirror_mode": {
    "name": "ipython",
    "version": 3
   },
   "file_extension": ".py",
   "mimetype": "text/x-python",
   "name": "python",
   "nbconvert_exporter": "python",
   "pygments_lexer": "ipython3",
   "version": "3.6.4"
  }
 },
 "nbformat": 4,
 "nbformat_minor": 2
}

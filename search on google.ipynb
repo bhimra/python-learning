{
 "cells": [
  {
   "cell_type": "markdown",
   "metadata": {},
   "source": [
    "## write a code using  that will take user input from and search on google and store top 10 url in the list."
   ]
  },
  {
   "cell_type": "code",
   "execution_count": 9,
   "metadata": {},
   "outputs": [],
   "source": [
    "from googlesearch import search"
   ]
  },
  {
   "cell_type": "code",
   "execution_count": null,
   "metadata": {},
   "outputs": [],
   "source": [
    "ip=input(\"What would you like to search for? \")\n",
    "\n",
    "for url in search(ip, stop=20):\n",
    "     print(url)"
   ]
  },
  {
   "cell_type": "code",
   "execution_count": 10,
   "metadata": {},
   "outputs": [
    {
     "name": "stdout",
     "output_type": "stream",
     "text": [
      "What would you like to search for? instagram\n",
      "https://www.instagram.com/\n",
      "https://twitter.com/instagram?ref_src=twsrc%5Egoogle%7Ctwcamp%5Eserp%7Ctwgr%5Eauthor\n",
      "https://twitter.com/instagram/status/1232745078805823488?ref_src=twsrc%5Egoogle%7Ctwcamp%5Eserp%7Ctwgr%5Etweet\n",
      "https://twitter.com/instagram/status/1232713633156612096?ref_src=twsrc%5Egoogle%7Ctwcamp%5Eserp%7Ctwgr%5Etweet\n",
      "https://twitter.com/instagram/status/1232402985252089856?ref_src=twsrc%5Egoogle%7Ctwcamp%5Eserp%7Ctwgr%5Etweet\n",
      "https://twitter.com/instagram/status/1232350347718320129?ref_src=twsrc%5Egoogle%7Ctwcamp%5Eserp%7Ctwgr%5Etweet\n",
      "https://twitter.com/instagram/status/1232036953819758593?ref_src=twsrc%5Egoogle%7Ctwcamp%5Eserp%7Ctwgr%5Etweet\n",
      "https://www.nytimes.com/2020/02/27/style/meghan-markle-instagram.html\n",
      "https://www.theverge.com/2020/2/27/21156337/instagram-basics-install-account-username-settings-get-started-how-to\n",
      "https://gadgets.ndtv.com/apps/news/instagram-pwa-available-microsoft-store-direct-messaging-feature-download-2187243\n",
      "https://www.facebook.com/instagram/\n",
      "https://seeklogo.net/new-instagram-logo-vector-download-89239.html\n",
      "https://en.wikipedia.org/wiki/Instagram\n",
      "https://apps.apple.com/us/app/instagram/id389801252\n",
      "https://www.theverge.com/2020/2/27/21154221/instagram-privacy-how-to-stories-posts-settings-tags-ads-blocking\n",
      "https://www.theverge.com/2020/2/28/21121187/instagram-guide-how-to-feed-stories-followers-account-username-privacy-facebook\n",
      "https://twitter.com/instagram?lang=en\n",
      "https://www.nytimes.com/2020/01/17/business/instagram-likes.html\n",
      "https://www.engadget.com/2020/02/27/instagram-adds-direct-messaging-windows-10/\n",
      "https://blog.hootsuite.com/instagram-collage/\n"
     ]
    }
   ],
   "source": [
    "\n",
    "\n"
   ]
  },
  {
   "cell_type": "code",
   "execution_count": null,
   "metadata": {},
   "outputs": [],
   "source": []
  }
 ],
 "metadata": {
  "kernelspec": {
   "display_name": "Python 3",
   "language": "python",
   "name": "python3"
  },
  "language_info": {
   "codemirror_mode": {
    "name": "ipython",
    "version": 3
   },
   "file_extension": ".py",
   "mimetype": "text/x-python",
   "name": "python",
   "nbconvert_exporter": "python",
   "pygments_lexer": "ipython3",
   "version": "3.6.4"
  }
 },
 "nbformat": 4,
 "nbformat_minor": 2
}

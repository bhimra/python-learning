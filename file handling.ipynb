{
 "cells": [
  {
   "cell_type": "markdown",
   "metadata": {},
   "source": [
    "## use file handling to create a linux command  similar to cat .\n",
    "  test at least  4 cases and options of cat command\n",
    " compare the difference of cat command and post the result"
   ]
  },
  {
   "cell_type": "code",
   "execution_count": 2,
   "metadata": {},
   "outputs": [
    {
     "name": "stdout",
     "output_type": "stream",
     "text": [
      "\n",
      "press 1 to single file view :\n",
      "press 2 to multiple file view :\n",
      "press 3 to cat -n view :\n",
      "press 4 to cat -e view :\n",
      "\n",
      "Enter your choice3\n",
      "Enter your file namehousing.csv\n"
     ]
    },
    {
     "ename": "FileNotFoundError",
     "evalue": "[Errno 2] No such file or directory: 'housing.csv'",
     "output_type": "error",
     "traceback": [
      "\u001b[1;31m---------------------------------------------------------------------------\u001b[0m",
      "\u001b[1;31mFileNotFoundError\u001b[0m                         Traceback (most recent call last)",
      "\u001b[1;32m<ipython-input-2-caeaa2505e38>\u001b[0m in \u001b[0;36m<module>\u001b[1;34m()\u001b[0m\n\u001b[0;32m     31\u001b[0m \u001b[1;32melif\u001b[0m\u001b[1;33m(\u001b[0m\u001b[0mn\u001b[0m\u001b[1;33m==\u001b[0m \u001b[1;34m'3'\u001b[0m\u001b[1;33m)\u001b[0m\u001b[1;33m:\u001b[0m\u001b[1;33m\u001b[0m\u001b[0m\n\u001b[0;32m     32\u001b[0m         \u001b[0mi\u001b[0m\u001b[1;33m=\u001b[0m\u001b[0minput\u001b[0m\u001b[1;33m(\u001b[0m\u001b[1;34m\"Enter your file name\"\u001b[0m\u001b[1;33m)\u001b[0m\u001b[1;33m\u001b[0m\u001b[0m\n\u001b[1;32m---> 33\u001b[1;33m         \u001b[0mf\u001b[0m\u001b[1;33m=\u001b[0m\u001b[0mopen\u001b[0m\u001b[1;33m(\u001b[0m\u001b[0mi\u001b[0m\u001b[1;33m,\u001b[0m\u001b[1;34m'r'\u001b[0m\u001b[1;33m)\u001b[0m\u001b[1;33m\u001b[0m\u001b[0m\n\u001b[0m\u001b[0;32m     34\u001b[0m         \u001b[0mdata\u001b[0m\u001b[1;33m=\u001b[0m\u001b[0mf\u001b[0m\u001b[1;33m.\u001b[0m\u001b[0mread\u001b[0m\u001b[1;33m(\u001b[0m\u001b[1;33m)\u001b[0m\u001b[1;33m\u001b[0m\u001b[0m\n\u001b[0;32m     35\u001b[0m         \u001b[0ma\u001b[0m\u001b[1;33m=\u001b[0m\u001b[0mdata\u001b[0m\u001b[1;33m.\u001b[0m\u001b[0msplit\u001b[0m\u001b[1;33m(\u001b[0m\u001b[1;34m'\\n'\u001b[0m\u001b[1;33m)\u001b[0m\u001b[1;33m\u001b[0m\u001b[0m\n",
      "\u001b[1;31mFileNotFoundError\u001b[0m: [Errno 2] No such file or directory: 'housing.csv'"
     ]
    }
   ],
   "source": [
    "\n",
    "op='''\n",
    "press 1 to single file view :\n",
    "press 2 to multiple file view :\n",
    "press 3 to cat -n view :\n",
    "press 4 to cat -e view :\n",
    "'''\n",
    "\n",
    "print(op)\n",
    "n=input(\"Enter your choice\")\n",
    "\n",
    "if(n=='1'):\n",
    "\ti=input(\"Enter your file name\") \n",
    "\tf=open(i,'r')\n",
    "\tdata=f.read()\n",
    "\tprint(data)\n",
    "\tf.close()\n",
    "\n",
    "elif(n=='2'):\n",
    "\tnum=int(input('Enter no. of files :'))\n",
    "\tfnames=[]\n",
    "\tprint('Enter name of files seperated by enter :')\n",
    "\tfor i in range(1,num+1):\n",
    "\t\tname=input() \n",
    "\t\tfnames.append(name)\n",
    "\t\n",
    "\tfor i in fnames:\n",
    "\t\tf=open(i,'r')\n",
    "\t\tprint(f.read())\n",
    "\t\tf.close()\n",
    "elif(n== '3'):\n",
    "\ti=input(\"Enter your file name\") \n",
    "\tf=open(i,'r')\n",
    "\tdata=f.read()\n",
    "\ta=data.split('\\n')\n",
    "\tl=1\n",
    "\tfor i in a:\n",
    "\t\tprint(str(l)+\" \"+i)\n",
    "\t\tl=l+1\n",
    "\t\t\n",
    "elif(n=='4'):\n",
    "\ti=input(\"Enter your file name\") \n",
    "\tf=open(i,'r')\n",
    "\tdata=f.read()\n",
    "\ta=data.split('\\n')\n",
    "\tfor i in a:\n",
    "\t\tprint(i+\"$\")\n",
    "else:\n",
    "\tprint(\"Invalid input...\")"
   ]
  },
  {
   "cell_type": "code",
   "execution_count": null,
   "metadata": {},
   "outputs": [],
   "source": []
  }
 ],
 "metadata": {
  "kernelspec": {
   "display_name": "Python 3",
   "language": "python",
   "name": "python3"
  },
  "language_info": {
   "codemirror_mode": {
    "name": "ipython",
    "version": 3
   },
   "file_extension": ".py",
   "mimetype": "text/x-python",
   "name": "python",
   "nbconvert_exporter": "python",
   "pygments_lexer": "ipython3",
   "version": "3.6.4"
  }
 },
 "nbformat": 4,
 "nbformat_minor": 2
}
